{
 "cells": [
  {
   "cell_type": "code",
   "execution_count": 1,
   "id": "ba83d386",
   "metadata": {},
   "outputs": [
    {
     "name": "stdout",
     "output_type": "stream",
     "text": [
      "Requirement already satisfied: mysql-connector-python in c:\\users\\joan\\appdata\\local\\programs\\python\\python311\\lib\\site-packages (8.0.32)\n",
      "Requirement already satisfied: protobuf<=3.20.3,>=3.11.0 in c:\\users\\joan\\appdata\\local\\programs\\python\\python311\\lib\\site-packages (from mysql-connector-python) (3.20.3)\n"
     ]
    }
   ],
   "source": [
    "!pip install mysql-connector-python"
   ]
  },
  {
   "cell_type": "code",
   "execution_count": 3,
   "id": "07db45b6",
   "metadata": {},
   "outputs": [],
   "source": [
    "import mysql.connector as connector"
   ]
  },
  {
   "cell_type": "code",
   "execution_count": 5,
   "id": "3acc226d",
   "metadata": {},
   "outputs": [],
   "source": [
    "connection = connector.connect(user = \"jfitam\", password = \"n9hfjwep\", host='127.0.0.1', database='db_capstone_project')"
   ]
  },
  {
   "cell_type": "code",
   "execution_count": 7,
   "id": "a3681b35",
   "metadata": {},
   "outputs": [
    {
     "name": "stdout",
     "output_type": "stream",
     "text": [
      "[('bookings',), ('cuisines',), ('customers',), ('deliveries',), ('emloyees',), ('expensive_orders',), ('meal_menu',), ('meals',), ('menu',), ('orders',), ('ordersview',), ('plates',), ('tables',), ('trending_items',)]\n"
     ]
    }
   ],
   "source": [
    "cursor = connection.cursor()\n",
    "show_tables_query = \"SHOW tables\" \n",
    "cursor.execute(show_tables_query)\n",
    "results = cursor.fetchall()\n",
    "print(results)"
   ]
  },
  {
   "cell_type": "code",
   "execution_count": 8,
   "id": "1e5b1a72",
   "metadata": {},
   "outputs": [
    {
     "name": "stdout",
     "output_type": "stream",
     "text": [
      "[]\n"
     ]
    }
   ],
   "source": [
    "customers_with_orders_query = \"select c.name, c.address from customers c, orders o where o.totalCost >= 60 and c.idCustomer = o.idCustomer\"\n",
    "cursor.execute(customers_with_orders_query)\n",
    "\n",
    "results = cursor.fetchall()\n",
    "print(results)"
   ]
  },
  {
   "cell_type": "code",
   "execution_count": null,
   "id": "e8f53507",
   "metadata": {},
   "outputs": [],
   "source": []
  }
 ],
 "metadata": {
  "kernelspec": {
   "display_name": "Python 3 (ipykernel)",
   "language": "python",
   "name": "python3"
  },
  "language_info": {
   "codemirror_mode": {
    "name": "ipython",
    "version": 3
   },
   "file_extension": ".py",
   "mimetype": "text/x-python",
   "name": "python",
   "nbconvert_exporter": "python",
   "pygments_lexer": "ipython3",
   "version": "3.11.1"
  }
 },
 "nbformat": 4,
 "nbformat_minor": 5
}
